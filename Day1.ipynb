{
  "nbformat": 4,
  "nbformat_minor": 0,
  "metadata": {
    "colab": {
      "name": "Day1.ipynb",
      "provenance": [],
      "authorship_tag": "ABX9TyM9L5B/WluvxIQpJX9Vbukj",
      "include_colab_link": true
    },
    "kernelspec": {
      "name": "python3",
      "display_name": "Python 3"
    },
    "language_info": {
      "name": "python"
    }
  },
  "cells": [
    {
      "cell_type": "markdown",
      "metadata": {
        "id": "view-in-github",
        "colab_type": "text"
      },
      "source": [
        "<a href=\"https://colab.research.google.com/github/AbeTadesse10/Impracticalprogramming/blob/main/Day1.ipynb\" target=\"_parent\"><img src=\"https://colab.research.google.com/assets/colab-badge.svg\" alt=\"Open In Colab\"/></a>"
      ]
    },
    {
      "cell_type": "markdown",
      "source": [
        "Import random library\n",
        "Define 3 lists total-Honorific list, fname, Lname\n",
        "Generate some random numbers that aren't bigger than the length of given list\n",
        "Use those numbers to pick values from the list(s)\n",
        "Honorific variable-Set with some value from honorific\n",
        "Fname variable-Set with some value from fname\n",
        "Lname variable-Set with some value from the Lname\n",
        "Shove the variables together (concatenate)\n",
        "output\n",
        "\n"
      ],
      "metadata": {
        "id": "yORoOYH7DEl1"
      }
    },
    {
      "cell_type": "code",
      "execution_count": null,
      "metadata": {
        "colab": {
          "base_uri": "https://localhost:8080/"
        },
        "id": "fOzNPWJWBFHX",
        "outputId": "f0ea5725-34e5-40e5-82f7-70b3162f522c"
      },
      "outputs": [
        {
          "output_type": "stream",
          "name": "stdout",
          "text": [
            "Magnificient Toni Tom\n"
          ]
        }
      ],
      "source": [
        "import random\n",
        "\n",
        "honorific_list = [' ', 'Amazing', 'Esteemed','Magnificient','Horrid']\n",
        "fname_list = [' ','Hank','Blake','Toni']\n",
        "lname_list = [' ','smith','Rigatoni','Morales','Tom']\n",
        "\n",
        "random_number1 = random.randint(0,len(honorific_list)-1)\n",
        "random_number2 = random.randint(0,len(fname_list)-1)\n",
        "random_number3 = random.randint(0,len(lname_list)-1)\n",
        "\n",
        "honorific = honorific_list [random_number1]\n",
        "fname = fname_list[random_number2]\n",
        "lname = lname_list[random_number3]\n",
        "\n",
        "print(honorific + \" \"+ fname + \" \" + lname)\n",
        "\n"
      ]
    },
    {
      "cell_type": "markdown",
      "source": [
        "1. Open text file\n",
        "2. loop over every word in text file (for item in wordList)\n",
        "strings (and lists) --index [0] is the first element; index [-1] is the last element\n",
        "\n",
        "word is reach\n",
        "\n",
        "reach[0]= r\n",
        "reach[-1] = h\n",
        "reach[-5] = r\n",
        "\n",
        "for word in wordlist:\n",
        "  for 0 < i < len(word)-1:\n",
        "    if word[i] != word [len(word)-(i+1):\n",
        "      break\n",
        "      elif i = len(word)-1:\n",
        "      print (word)\n",
        "\n",
        "  if word[i] ==word[len(word)-(i+1)]:\n",
        "    continue\n",
        "    if i < len(word)/2:\n",
        "      print(word)\n",
        "  -if statement to check first and last letter\n",
        "  -if statement to check second and second-to-last\n",
        "\n",
        "\n"
      ],
      "metadata": {
        "id": "LtJZu-_7HK2E"
      }
    },
    {
      "cell_type": "code",
      "source": [
        "dictionaryFile = \"/content/dictionary.txt\"\n",
        "wordList = open(dictionaryFile,\"r\")\n",
        "\n",
        "for word in wordList:\n",
        "  word = word.strip()\n",
        "  for i in range(0, len(word)-1):\n",
        "      if word[i] != word [len(word)-(i+1)]:\n",
        "        #print (\"not a palindrome\")\n",
        "        break\n",
        "      #elif word[i] == word[len(word)-1]:\n",
        "      elif i>= ((len(word)-1)/2):\n",
        "        print (word)\n",
        "        break"
      ],
      "metadata": {
        "colab": {
          "base_uri": "https://localhost:8080/"
        },
        "id": "xCb3w6qnO1De",
        "outputId": "a032c5dc-b288-46d1-b809-0ec8e4154681"
      },
      "execution_count": 9,
      "outputs": [
        {
          "output_type": "stream",
          "name": "stdout",
          "text": [
            "ABABA\n",
            "ABBA\n",
            "ADA\n",
            "ANNA\n",
            "BIB\n",
            "BOB\n",
            "BOOB\n",
            "CIVIC\n",
            "DAD\n",
            "DEED\n",
            "DID\n",
            "DUD\n",
            "EKE\n",
            "ERE\n",
            "EVE\n",
            "EWE\n",
            "EYE\n",
            "GAG\n",
            "GIG\n",
            "HANNAH\n",
            "HUH\n",
            "LEVEL\n",
            "MADAM\n",
            "NAN\n",
            "NON\n",
            "NOON\n",
            "NUN\n",
            "OTTO\n",
            "PEEP\n",
            "PEP\n",
            "PIP\n",
            "POP\n",
            "PUP\n",
            "RADAR\n",
            "REDDER\n",
            "REFER\n",
            "REVIVER\n",
            "ROTATOR\n",
            "ROTOR\n",
            "SEES\n",
            "SEXES\n",
            "SOLOS\n",
            "SUS\n",
            "TIT\n"
          ]
        }
      ]
    }
  ]
}